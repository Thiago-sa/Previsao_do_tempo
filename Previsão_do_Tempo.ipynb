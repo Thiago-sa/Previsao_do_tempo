{
  "nbformat": 4,
  "nbformat_minor": 0,
  "metadata": {
    "colab": {
      "provenance": [],
      "authorship_tag": "ABX9TyPeQ1yUNaTGfZjXvFpacDyL",
      "include_colab_link": true
    },
    "kernelspec": {
      "name": "python3",
      "display_name": "Python 3"
    },
    "language_info": {
      "name": "python"
    }
  },
  "cells": [
    {
      "cell_type": "markdown",
      "metadata": {
        "id": "view-in-github",
        "colab_type": "text"
      },
      "source": [
        "<a href=\"https://colab.research.google.com/github/Thiago-sa/Previsao_do_tempo/blob/main/Previs%C3%A3o_do_Tempo.ipynb\" target=\"_parent\"><img src=\"https://colab.research.google.com/assets/colab-badge.svg\" alt=\"Open In Colab\"/></a>"
      ]
    },
    {
      "cell_type": "markdown",
      "source": [
        "# **Gerando o clima atual através de API**\n",
        "\n",
        "Nesse exemplo de código estou usando a API da **OpenWeather** para extrairmos o clima em São Paulo.\n",
        "\n",
        "OpenWeather: https://home.openweathermap.org/users/sign_in"
      ],
      "metadata": {
        "id": "JKba4wF7XtTU"
      }
    },
    {
      "cell_type": "code",
      "execution_count": 93,
      "metadata": {
        "colab": {
          "base_uri": "https://localhost:8080/"
        },
        "id": "CnX6cFyJEryH",
        "outputId": "7d0a9362-59c2-4a96-b16f-77498b7a9394"
      },
      "outputs": [
        {
          "output_type": "stream",
          "name": "stdout",
          "text": [
            "Requirement already satisfied: requests in /usr/local/lib/python3.10/dist-packages (2.27.1)\n",
            "Requirement already satisfied: urllib3<1.27,>=1.21.1 in /usr/local/lib/python3.10/dist-packages (from requests) (1.26.16)\n",
            "Requirement already satisfied: certifi>=2017.4.17 in /usr/local/lib/python3.10/dist-packages (from requests) (2023.7.22)\n",
            "Requirement already satisfied: charset-normalizer~=2.0.0 in /usr/local/lib/python3.10/dist-packages (from requests) (2.0.12)\n",
            "Requirement already satisfied: idna<4,>=2.5 in /usr/local/lib/python3.10/dist-packages (from requests) (3.4)\n"
          ]
        }
      ],
      "source": [
        "#Instalando e importando a biblioteca \"Requests\"\n",
        "\n",
        "#instalando\n",
        "!pip install requests\n",
        "\n",
        "#importando\n",
        "import requests"
      ]
    },
    {
      "cell_type": "code",
      "source": [
        "#esta chave que está entre parenteses é fornecida pela OpenWeather gratuitamente, serve somente para verificar previsão atual.\n",
        "API_KEY = \"0fa4e95772fcce652a1cb3fcfdd3bd5e\""
      ],
      "metadata": {
        "id": "CpB4bzJHFBW7"
      },
      "execution_count": 94,
      "outputs": []
    },
    {
      "cell_type": "code",
      "source": [
        "#nesse exemplo estou verificando somente o clima da cidade de São Paulo.\n",
        "CIDADE = \"São Paulo\"\n",
        "\n",
        "#aqui vamos puxar diretamente do site a cidade escolhida e a API_KEY fornecida\n",
        "link = f\"https://api.openweathermap.org/data/2.5/weather?q={CIDADE}&appid={API_KEY}&lang=pt_br\""
      ],
      "metadata": {
        "id": "B-wwmUTJJwau"
      },
      "execution_count": 95,
      "outputs": []
    },
    {
      "cell_type": "code",
      "source": [
        "#no código abaixo verificamos se a chave da API está ativa, quando retorna [200] é que está ativa.\n",
        "requisicao = requests.get(link)\n",
        "print(requisicao)\n",
        "\n",
        "#aqui puxamos todos os dados que estão dentro da cidade de SP, como: umidade, visibilidade, nuvens etc.\n",
        "print(requisicao.json())\n",
        "requisicao_dic = requisicao.json()"
      ],
      "metadata": {
        "colab": {
          "base_uri": "https://localhost:8080/"
        },
        "id": "Bf9I3DpqNgYr",
        "outputId": "167f226e-9462-4e2e-e8fa-72f3b33d43d9"
      },
      "execution_count": 96,
      "outputs": [
        {
          "output_type": "stream",
          "name": "stdout",
          "text": [
            "<Response [200]>\n",
            "{'coord': {'lon': -46.6361, 'lat': -23.5475}, 'weather': [{'id': 800, 'main': 'Clear', 'description': 'céu limpo', 'icon': '01n'}], 'base': 'stations', 'main': {'temp': 289.18, 'feels_like': 288.93, 'temp_min': 287.09, 'temp_max': 290.62, 'pressure': 1025, 'humidity': 80}, 'visibility': 10000, 'wind': {'speed': 2.57, 'deg': 100}, 'clouds': {'all': 0}, 'dt': 1691285823, 'sys': {'type': 1, 'id': 8394, 'country': 'BR', 'sunrise': 1691228364, 'sunset': 1691268343}, 'timezone': -10800, 'id': 3448439, 'name': 'São Paulo', 'cod': 200}\n"
          ]
        }
      ]
    },
    {
      "cell_type": "code",
      "source": [
        "#Neste código fazemos um filtro puxando somente o que queremos exibir, no caso, temperatura atual.\n",
        "descricao = requisicao_dic['weather'][0]['description']\n",
        "\n",
        "#inicialmente o código me da a medição da temperatura em KELVIN, mas nosso padrão no Brasil é Celsius,\n",
        "#sendo assim pegamos a temperatura 289.49 kelvin e utilizando a formula padrão -273.15 que chegaremos a uma temperatura de\n",
        "# 17° celsius(pode variar).\n",
        "temperatura = requisicao_dic['main']['temp'] - 273.15\n",
        "print(descricao, temperatura)"
      ],
      "metadata": {
        "colab": {
          "base_uri": "https://localhost:8080/"
        },
        "id": "oZwi7oVhNh6V",
        "outputId": "3af8ac82-7c48-4a56-a843-bf58190c03b8"
      },
      "execution_count": 97,
      "outputs": [
        {
          "output_type": "stream",
          "name": "stdout",
          "text": [
            "céu limpo 16.03000000000003\n"
          ]
        }
      ]
    },
    {
      "cell_type": "code",
      "source": [
        "# Vamos arredondar a temperatura e inserir o simbolo de Celsius ( °C )\n",
        "print(descricao, f'{round(temperatura)}°c')"
      ],
      "metadata": {
        "colab": {
          "base_uri": "https://localhost:8080/"
        },
        "id": "NwM-5W6wWODm",
        "outputId": "09c9a8f3-5c76-4a58-f4f0-32008e7f29ce"
      },
      "execution_count": 98,
      "outputs": [
        {
          "output_type": "stream",
          "name": "stdout",
          "text": [
            "céu limpo 16°c\n"
          ]
        }
      ]
    }
  ]
}