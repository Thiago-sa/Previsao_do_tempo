{
  "nbformat": 4,
  "nbformat_minor": 0,
  "metadata": {
    "colab": {
      "provenance": [],
      "name": "previsao_do_tempo.ipynb",
      "authorship_tag": "ABX9TyPeQ1yUNaTGfZjXvFpacDyL",
      "include_colab_link": true
    },
    "kernelspec": {
      "name": "python3",
      "display_name": "Python 3"
    },
    "language_info": {
      "name": "python"
    }
  },
  "cells": [
    {
      "cell_type": "markdown",
      "metadata": {
        "id": "view-in-github",
        "colab_type": "text"
      },
      "source": [
        "<a href=\"https://colab.research.google.com/github/Thiago-sa/Previsao_do_tempo/blob/main/previsao_do_tempo.ipynb\" target=\"_parent\"><img src=\"https://colab.research.google.com/assets/colab-badge.svg\" alt=\"Open In Colab\"/></a>"
      ]
    },
    {
      "cell_type": "markdown",
      "source": [
        "# **Gerando o clima atual através de API**\n",
        "\n",
        "Nesse exemplo de código estou usando a API da **OpenWeather** para extrairmos o clima em São Paulo.\n",
        "\n",
        "OpenWeather: https://home.openweathermap.org/users/sign_in"
      ],
      "metadata": {
        "id": "JKba4wF7XtTU"
      }
    },
    {
      "cell_type": "code",
      "execution_count": null,
      "metadata": {
        "id": "CnX6cFyJEryH"
      },
      "outputs": [],
      "source": [
        "#Instalando e importando a biblioteca \"Requests\"\n",
        "\n",
        "#instalando\n",
        "!pip install requests\n",
        "\n",
        "#importando\n",
        "import requests"
      ]
    },
    {
      "cell_type": "code",
      "source": [
        "#esta chave que está entre parenteses é fornecida pela OpenWeather gratuitamente, serve somente para verificar previsão atual.\n",
        "API_KEY = \"0fa4e95772fcce652a1cb3fcfdd3bd5e\""
      ],
      "metadata": {
        "id": "CpB4bzJHFBW7"
      },
      "execution_count": null,
      "outputs": []
    },
    {
      "cell_type": "code",
      "source": [
        "#nesse exemplo estou verificando somente o clima da cidade de São Paulo.\n",
        "CIDADE = \"São Paulo\"\n",
        "\n",
        "#aqui vamos puxar diretamente do site a cidade escolhida e a API_KEY fornecida\n",
        "link = f\"https://api.openweathermap.org/data/2.5/weather?q={CIDADE}&appid={API_KEY}&lang=pt_br\""
      ],
      "metadata": {
        "id": "B-wwmUTJJwau"
      },
      "execution_count": null,
      "outputs": []
    },
    {
      "cell_type": "code",
      "source": [
        "#no código abaixo verificamos se a chave da API está ativa, quando retorna [200] é que está ativa.\n",
        "requisicao = requests.get(link)\n",
        "print(requisicao)\n",
        "\n",
        "#aqui puxamos todos os dados que estão dentro da cidade de SP, como: umidade, visibilidade, nuvens etc.\n",
        "print(requisicao.json())\n",
        "requisicao_dic = requisicao.json()"
      ],
      "metadata": {
        "id": "Bf9I3DpqNgYr"
      },
      "execution_count": null,
      "outputs": []
    },
    {
      "cell_type": "code",
      "source": [
        "#Neste código fazemos um filtro puxando somente o que queremos exibir, no caso, temperatura atual.\n",
        "descricao = requisicao_dic['weather'][0]['description']\n",
        "\n",
        "#inicialmente o código me da a medição da temperatura em KELVIN, mas nosso padrão no Brasil é Celsius,\n",
        "#sendo assim pegamos a temperatura 289.49 kelvin e utilizando a formula padrão -273.15 que chegaremos a uma temperatura de\n",
        "# 17° celsius(pode variar).\n",
        "temperatura = requisicao_dic['main']['temp'] - 273.15\n",
        "print(descricao, temperatura)"
      ],
      "metadata": {
        "colab": {
          "base_uri": "https://localhost:8080/"
        },
        "id": "oZwi7oVhNh6V",
        "outputId": "fb68ae47-12bf-4eb9-9f46-e8c0ee68e58a"
      },
      "execution_count": null,
      "outputs": [
        {
          "output_type": "stream",
          "name": "stdout",
          "text": [
            "céu limpo 16.340000000000032\n"
          ]
        }
      ]
    },
    {
      "cell_type": "code",
      "source": [
        "# Vamos arredondar a temperatura e inserir o simbolo de Celsius ( °C )\n",
        "print(descricao, f'{round(temperatura)}°c')"
      ],
      "metadata": {
        "colab": {
          "base_uri": "https://localhost:8080/"
        },
        "id": "NwM-5W6wWODm",
        "outputId": "6f36190e-5ebd-45a8-8367-1555f605f840"
      },
      "execution_count": null,
      "outputs": [
        {
          "output_type": "stream",
          "name": "stdout",
          "text": [
            "céu limpo 17°c\n"
          ]
        }
      ]
    }
  ]
}